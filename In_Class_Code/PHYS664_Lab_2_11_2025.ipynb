{
  "nbformat": 4,
  "nbformat_minor": 0,
  "metadata": {
    "colab": {
      "provenance": [],
      "authorship_tag": "ABX9TyNh3ZL7KcjJnbstLZb6bOwU",
      "include_colab_link": true
    },
    "kernelspec": {
      "name": "python3",
      "display_name": "Python 3"
    },
    "language_info": {
      "name": "python"
    }
  },
  "cells": [
    {
      "cell_type": "markdown",
      "metadata": {
        "id": "view-in-github",
        "colab_type": "text"
      },
      "source": [
        "<a href=\"https://colab.research.google.com/github/yucachen/MLTSA25_YChen/blob/main/In_Class_Code/PHYS664_Lab_2_11_2025.ipynb\" target=\"_parent\"><img src=\"https://colab.research.google.com/assets/colab-badge.svg\" alt=\"Open In Colab\"/></a>"
      ]
    },
    {
      "cell_type": "code",
      "execution_count": 29,
      "metadata": {
        "id": "onXFXa5shW47"
      },
      "outputs": [],
      "source": [
        "import numpy as np\n",
        "import matplotlib.pyplot as plt"
      ]
    },
    {
      "cell_type": "code",
      "source": [
        "my_str = \"hello\" # python knows it's a string because of quotes, in C you would need to explicitly tell the code that it is a string"
      ],
      "metadata": {
        "id": "kez0x87Ghsgf"
      },
      "execution_count": 4,
      "outputs": []
    },
    {
      "cell_type": "code",
      "source": [
        "my_str # python notebook will just print out the content of the variable - for any cell, it will return the last line of code in the cell (?)"
      ],
      "metadata": {
        "colab": {
          "base_uri": "https://localhost:8080/",
          "height": 36
        },
        "id": "CQFIkHwEh4Vq",
        "outputId": "04eea71c-3ab8-423a-ff3a-d1fc389473d8"
      },
      "execution_count": 5,
      "outputs": [
        {
          "output_type": "execute_result",
          "data": {
            "text/plain": [
              "'hello'"
            ],
            "application/vnd.google.colaboratory.intrinsic+json": {
              "type": "string"
            }
          },
          "metadata": {},
          "execution_count": 5
        }
      ]
    },
    {
      "cell_type": "code",
      "source": [
        "print(my_str) # more formal way of printing variables"
      ],
      "metadata": {
        "colab": {
          "base_uri": "https://localhost:8080/"
        },
        "id": "BzhW9lF1iEAk",
        "outputId": "a291b05a-075c-4d87-a285-6d435544463d"
      },
      "execution_count": 7,
      "outputs": [
        {
          "output_type": "stream",
          "name": "stdout",
          "text": [
            "hello\n"
          ]
        }
      ]
    },
    {
      "cell_type": "code",
      "source": [
        "my_int = 36"
      ],
      "metadata": {
        "id": "zxAFDjCNiQzs"
      },
      "execution_count": 8,
      "outputs": []
    },
    {
      "cell_type": "code",
      "source": [
        "my_float = 3. # must have decimal for python to recognize as a float"
      ],
      "metadata": {
        "id": "uFBqmQn5ihue"
      },
      "execution_count": 12,
      "outputs": []
    },
    {
      "cell_type": "code",
      "source": [
        "print(my_float)"
      ],
      "metadata": {
        "colab": {
          "base_uri": "https://localhost:8080/"
        },
        "id": "SsVFK_SKijXX",
        "outputId": "975482b1-fbb4-4fd4-f9f0-505a3f2a4e89"
      },
      "execution_count": 13,
      "outputs": [
        {
          "output_type": "stream",
          "name": "stdout",
          "text": [
            "3.0\n"
          ]
        }
      ]
    },
    {
      "cell_type": "code",
      "source": [
        "my_int * my_float # this will become a float, float takes more space/more complex variable --> python will choose the more complex variable"
      ],
      "metadata": {
        "colab": {
          "base_uri": "https://localhost:8080/"
        },
        "id": "K3qNyTJritCS",
        "outputId": "35b4497b-4cd2-4b85-8a4e-cf0dfb1690ed"
      },
      "execution_count": 16,
      "outputs": [
        {
          "output_type": "execute_result",
          "data": {
            "text/plain": [
              "108.0"
            ]
          },
          "metadata": {},
          "execution_count": 16
        }
      ]
    },
    {
      "cell_type": "code",
      "source": [
        "my_int * my_str # it will repeat this string as many times as the int is"
      ],
      "metadata": {
        "colab": {
          "base_uri": "https://localhost:8080/",
          "height": 53
        },
        "id": "fKrZp856izDU",
        "outputId": "e18009bc-8d3c-48ab-8b5a-f93b9862f1fa"
      },
      "execution_count": 17,
      "outputs": [
        {
          "output_type": "execute_result",
          "data": {
            "text/plain": [
              "'hellohellohellohellohellohellohellohellohellohellohellohellohellohellohellohellohellohellohellohellohellohellohellohellohellohellohellohellohellohellohellohellohellohellohellohello'"
            ],
            "application/vnd.google.colaboratory.intrinsic+json": {
              "type": "string"
            }
          },
          "metadata": {},
          "execution_count": 17
        }
      ]
    },
    {
      "cell_type": "code",
      "source": [
        "my_float * my_str # this will return an error"
      ],
      "metadata": {
        "colab": {
          "base_uri": "https://localhost:8080/",
          "height": 141
        },
        "id": "f4lOfy2KjFay",
        "outputId": "e92d606d-7f5e-4097-a441-3c1cbaef422e"
      },
      "execution_count": 18,
      "outputs": [
        {
          "output_type": "error",
          "ename": "TypeError",
          "evalue": "can't multiply sequence by non-int of type 'float'",
          "traceback": [
            "\u001b[0;31m---------------------------------------------------------------------------\u001b[0m",
            "\u001b[0;31mTypeError\u001b[0m                                 Traceback (most recent call last)",
            "\u001b[0;32m<ipython-input-18-d49735f53342>\u001b[0m in \u001b[0;36m<cell line: 0>\u001b[0;34m()\u001b[0m\n\u001b[0;32m----> 1\u001b[0;31m \u001b[0mmy_float\u001b[0m \u001b[0;34m*\u001b[0m \u001b[0mmy_str\u001b[0m\u001b[0;34m\u001b[0m\u001b[0;34m\u001b[0m\u001b[0m\n\u001b[0m",
            "\u001b[0;31mTypeError\u001b[0m: can't multiply sequence by non-int of type 'float'"
          ]
        }
      ]
    },
    {
      "cell_type": "code",
      "source": [
        "helloworld = \"hello\" \"world!\" # will concatenate together\n",
        "print(helloworld)"
      ],
      "metadata": {
        "colab": {
          "base_uri": "https://localhost:8080/"
        },
        "id": "vjwPMChQjM7o",
        "outputId": "e1aec157-9b99-45f7-c3cf-dcb07d8fc275"
      },
      "execution_count": 20,
      "outputs": [
        {
          "output_type": "stream",
          "name": "stdout",
          "text": [
            "helloworld!\n"
          ]
        }
      ]
    },
    {
      "cell_type": "code",
      "source": [
        "my_nparr = np.array([1, 2, 3])\n",
        "my_int * my_nparr"
      ],
      "metadata": {
        "colab": {
          "base_uri": "https://localhost:8080/"
        },
        "id": "v_ogCmC6jcAO",
        "outputId": "b84e4c9c-c195-42e2-a7c4-70177eca11f3"
      },
      "execution_count": 21,
      "outputs": [
        {
          "output_type": "execute_result",
          "data": {
            "text/plain": [
              "array([ 36,  72, 108])"
            ]
          },
          "metadata": {},
          "execution_count": 21
        }
      ]
    },
    {
      "cell_type": "code",
      "source": [
        "my_bool = True # must capitalize this"
      ],
      "metadata": {
        "id": "EqFPKWKFkCuH"
      },
      "execution_count": 22,
      "outputs": []
    },
    {
      "cell_type": "code",
      "source": [
        "my_int == 1"
      ],
      "metadata": {
        "colab": {
          "base_uri": "https://localhost:8080/"
        },
        "id": "4Wb2z0F7ktJn",
        "outputId": "7cd49d29-f775-4ed7-e878-8674d9880d93"
      },
      "execution_count": 24,
      "outputs": [
        {
          "output_type": "execute_result",
          "data": {
            "text/plain": [
              "False"
            ]
          },
          "metadata": {},
          "execution_count": 24
        }
      ]
    },
    {
      "cell_type": "code",
      "source": [
        "my_int != 1"
      ],
      "metadata": {
        "colab": {
          "base_uri": "https://localhost:8080/"
        },
        "id": "DnrrLfZBkurh",
        "outputId": "1178579d-14c0-4509-c899-29545149efd3"
      },
      "execution_count": 25,
      "outputs": [
        {
          "output_type": "execute_result",
          "data": {
            "text/plain": [
              "True"
            ]
          },
          "metadata": {},
          "execution_count": 25
        }
      ]
    },
    {
      "cell_type": "code",
      "source": [
        "if my_int != 36:\n",
        "  print(\"my int is not 36\")\n",
        "else:\n",
        "  print(\"my int is 36!\")"
      ],
      "metadata": {
        "colab": {
          "base_uri": "https://localhost:8080/"
        },
        "id": "CLnXwBrqkx6C",
        "outputId": "dc4433e9-7616-47d5-8e97-b09cf82c246f"
      },
      "execution_count": 26,
      "outputs": [
        {
          "output_type": "stream",
          "name": "stdout",
          "text": [
            "my int is 36!\n"
          ]
        }
      ]
    },
    {
      "cell_type": "code",
      "source": [
        "type(my_int)"
      ],
      "metadata": {
        "colab": {
          "base_uri": "https://localhost:8080/"
        },
        "id": "dhR_cYg9k-1s",
        "outputId": "c4142cc8-55d9-4190-ce3a-435b5302ef3a"
      },
      "execution_count": 27,
      "outputs": [
        {
          "output_type": "execute_result",
          "data": {
            "text/plain": [
              "int"
            ]
          },
          "metadata": {},
          "execution_count": 27
        }
      ]
    },
    {
      "cell_type": "code",
      "source": [
        "my_nparr.dtype # without parenthesis, this is a not a method (?)"
      ],
      "metadata": {
        "colab": {
          "base_uri": "https://localhost:8080/"
        },
        "id": "TBGm_Lt4lfM4",
        "outputId": "9485a777-e786-4783-c5c7-b248e6e252f8"
      },
      "execution_count": 31,
      "outputs": [
        {
          "output_type": "execute_result",
          "data": {
            "text/plain": [
              "dtype('int64')"
            ]
          },
          "metadata": {},
          "execution_count": 31
        }
      ]
    },
    {
      "cell_type": "code",
      "source": [
        "my_nparr.max()"
      ],
      "metadata": {
        "colab": {
          "base_uri": "https://localhost:8080/"
        },
        "id": "lebD19oAlhIj",
        "outputId": "b10eb9d9-381d-4a6d-e3e2-bfbd39bdb9a9"
      },
      "execution_count": 33,
      "outputs": [
        {
          "output_type": "execute_result",
          "data": {
            "text/plain": [
              "3"
            ]
          },
          "metadata": {},
          "execution_count": 33
        }
      ]
    },
    {
      "cell_type": "code",
      "source": [
        "my_nparr.argmax() # location of this maximum value"
      ],
      "metadata": {
        "colab": {
          "base_uri": "https://localhost:8080/"
        },
        "id": "hk71Rhwsl4iq",
        "outputId": "1834f5e6-2a5a-424e-aaa4-f12d24ab2c08"
      },
      "execution_count": 34,
      "outputs": [
        {
          "output_type": "execute_result",
          "data": {
            "text/plain": [
              "2"
            ]
          },
          "metadata": {},
          "execution_count": 34
        }
      ]
    },
    {
      "cell_type": "code",
      "source": [
        "my_nparr[0]"
      ],
      "metadata": {
        "colab": {
          "base_uri": "https://localhost:8080/"
        },
        "id": "Il9TZwagl9XF",
        "outputId": "cf778fbb-aa21-4e09-eae2-b4988dcb435b"
      },
      "execution_count": 35,
      "outputs": [
        {
          "output_type": "execute_result",
          "data": {
            "text/plain": [
              "1"
            ]
          },
          "metadata": {},
          "execution_count": 35
        }
      ]
    },
    {
      "cell_type": "code",
      "source": [
        "my_nparr[-1]"
      ],
      "metadata": {
        "colab": {
          "base_uri": "https://localhost:8080/"
        },
        "id": "EeedxTO7mefH",
        "outputId": "c28ead2f-324e-4b09-a42a-ab6e13a62747"
      },
      "execution_count": 36,
      "outputs": [
        {
          "output_type": "execute_result",
          "data": {
            "text/plain": [
              "3"
            ]
          },
          "metadata": {},
          "execution_count": 36
        }
      ]
    },
    {
      "cell_type": "code",
      "source": [
        "my_nparr[1:] # colon indicates a range, can take a subset of the array"
      ],
      "metadata": {
        "colab": {
          "base_uri": "https://localhost:8080/"
        },
        "id": "-3018TDcmg-b",
        "outputId": "bfb31bca-236c-44b8-dc74-083682b1f6ba"
      },
      "execution_count": 37,
      "outputs": [
        {
          "output_type": "execute_result",
          "data": {
            "text/plain": [
              "array([2, 3])"
            ]
          },
          "metadata": {},
          "execution_count": 37
        }
      ]
    },
    {
      "cell_type": "code",
      "source": [
        "my_nparr[1:3]"
      ],
      "metadata": {
        "colab": {
          "base_uri": "https://localhost:8080/"
        },
        "id": "YtpxaTK2mkfG",
        "outputId": "00eba593-638e-4d0b-b56d-e1573d5b839e"
      },
      "execution_count": 39,
      "outputs": [
        {
          "output_type": "execute_result",
          "data": {
            "text/plain": [
              "array([2, 3])"
            ]
          },
          "metadata": {},
          "execution_count": 39
        }
      ]
    },
    {
      "cell_type": "code",
      "source": [
        "list(range(1,4))"
      ],
      "metadata": {
        "colab": {
          "base_uri": "https://localhost:8080/"
        },
        "id": "pyC5kApXm1Zi",
        "outputId": "f78a518a-1c4c-433d-a64c-994b08499a81"
      },
      "execution_count": 43,
      "outputs": [
        {
          "output_type": "execute_result",
          "data": {
            "text/plain": [
              "[1, 2, 3]"
            ]
          },
          "metadata": {},
          "execution_count": 43
        }
      ]
    },
    {
      "cell_type": "code",
      "source": [
        "for a in range(1,4): # anytime plan on doing some sort of math, please use numpy array or tensors\n",
        "  print(sum(np.arange(0,a)), 1) # np.arange basically the same as range, but returns np.array type instead of a list/range type (?)"
      ],
      "metadata": {
        "colab": {
          "base_uri": "https://localhost:8080/"
        },
        "id": "ch88n_kWm5JN",
        "outputId": "88fcdd7f-a700-4455-baa2-2836ba93d75a"
      },
      "execution_count": 49,
      "outputs": [
        {
          "output_type": "stream",
          "name": "stdout",
          "text": [
            "0 1\n",
            "1 1\n",
            "3 1\n"
          ]
        }
      ]
    },
    {
      "cell_type": "code",
      "source": [
        "# python stores your entire memory stack, so for some more memory intensive projects (like NN), remember to clear this\n",
        "# lists are a very flexible data type, so it's a bit easier to use compared to np.array type\n",
        "def allodds(lastn):\n",
        "  \"\"\"\n",
        "  docstring here! (can put in a string with returns as well)\n",
        "  prints odd numbers\n",
        "  input:\n",
        "    (int) last number in the list\n",
        "  output:\n",
        "    a list of odd numbers\n",
        "  \"\"\"\n",
        "  odds = []\n",
        "  for a in range(0, lastn+1): # to make sure the last integer is returned if it is odd\n",
        "    if a % 2 == 1:\n",
        "      odds.append(a)\n",
        "    # print(odds) # this will print at every part of the loop with this indentation\n",
        "  return odds"
      ],
      "metadata": {
        "id": "RPFmpmSMnPbd"
      },
      "execution_count": 66,
      "outputs": []
    },
    {
      "cell_type": "code",
      "source": [
        "allodds? # this brings up the Help window in Google Colab (?), which then prints out what is in the docstring!"
      ],
      "metadata": {
        "colab": {
          "base_uri": "https://localhost:8080/",
          "height": 106
        },
        "id": "1bqJTVauoet9",
        "outputId": "9c5bc8c7-48e9-4864-8b75-d802bd7c972d"
      },
      "execution_count": 67,
      "outputs": [
        {
          "output_type": "error",
          "ename": "SyntaxError",
          "evalue": "invalid syntax (<ipython-input-67-4c1fe342c624>, line 1)",
          "traceback": [
            "\u001b[0;36m  File \u001b[0;32m\"<ipython-input-67-4c1fe342c624>\"\u001b[0;36m, line \u001b[0;32m1\u001b[0m\n\u001b[0;31m    allodds? # this brings up the Help window in Google Colab, which then prints out what is in the docstring!\u001b[0m\n\u001b[0m           ^\u001b[0m\n\u001b[0;31mSyntaxError\u001b[0m\u001b[0;31m:\u001b[0m invalid syntax\n"
          ]
        }
      ]
    },
    {
      "cell_type": "code",
      "source": [
        "allodds(10)"
      ],
      "metadata": {
        "colab": {
          "base_uri": "https://localhost:8080/"
        },
        "id": "TJxJyTmNp0Dj",
        "outputId": "f502c871-054c-4aab-d0fc-b236eda7a42f"
      },
      "execution_count": 68,
      "outputs": [
        {
          "output_type": "execute_result",
          "data": {
            "text/plain": [
              "[1, 3, 5, 7, 9]"
            ]
          },
          "metadata": {},
          "execution_count": 68
        }
      ]
    },
    {
      "cell_type": "code",
      "source": [
        "# own code for checking palindrome\n",
        "def checkPalindrome(word):\n",
        "\n",
        "  if type(word) != str:\n",
        "    print(\"The variable you provided is not a string! >:(\")\n",
        "    return\n",
        "\n",
        "  stringLength = float(len(word))\n",
        "\n",
        "  # for even length word\n",
        "  if stringLength % 2 == 0. :\n",
        "    firstHalf = list(word[0:int(stringLength/2)] )\n",
        "    secondHalf = list(word[int(stringLength/2):])\n",
        "    secondHalf.reverse()\n",
        "    if firstHalf == secondHalf:\n",
        "      return True\n",
        "    else:\n",
        "      return False\n",
        "\n",
        "  # for odd length word\n",
        "  if stringLength % 2. == 1.:\n",
        "    firstHalf = list(word[0:int(stringLength/2)+1] )\n",
        "    # print(firstHalf)\n",
        "    secondHalf = list(word[int(stringLength/2):])\n",
        "    # print(secondHalf)\n",
        "    secondHalf.reverse()\n",
        "    # print(secondHalf)\n",
        "\n",
        "    if firstHalf == secondHalf:\n",
        "      return True\n",
        "    else:\n",
        "      return False\n",
        ""
      ],
      "metadata": {
        "id": "NP1wDXUXp_sZ"
      },
      "execution_count": 122,
      "outputs": []
    },
    {
      "cell_type": "code",
      "source": [
        "checkPalindrome(\"opo\")"
      ],
      "metadata": {
        "colab": {
          "base_uri": "https://localhost:8080/"
        },
        "id": "tnl3ijlaq0A0",
        "outputId": "8ea983f2-66fb-45c3-b014-64657ee01e5d"
      },
      "execution_count": 123,
      "outputs": [
        {
          "output_type": "stream",
          "name": "stdout",
          "text": [
            "['o', 'p']\n"
          ]
        },
        {
          "output_type": "execute_result",
          "data": {
            "text/plain": [
              "True"
            ]
          },
          "metadata": {},
          "execution_count": 123
        }
      ]
    },
    {
      "cell_type": "code",
      "source": [
        "# from class, a more efficient way of doing this\n",
        "\n",
        "def ispalindrome(s):\n",
        "  \"checks if string is a palindrome\"\n",
        "  assert type(s) == str, \"is not a string\"\n",
        "  if s.lower() == s[::-1].lower():\n",
        "    return True\n",
        "  return False"
      ],
      "metadata": {
        "id": "f9yNT6FRq1RH"
      },
      "execution_count": 126,
      "outputs": []
    },
    {
      "cell_type": "code",
      "source": [
        "ispalindrome(\"tacocat\")"
      ],
      "metadata": {
        "colab": {
          "base_uri": "https://localhost:8080/"
        },
        "id": "sqHqn7PpuOip",
        "outputId": "65c37d18-c628-433f-9670-8d85a5dd429a"
      },
      "execution_count": 127,
      "outputs": [
        {
          "output_type": "execute_result",
          "data": {
            "text/plain": [
              "True"
            ]
          },
          "metadata": {},
          "execution_count": 127
        }
      ]
    },
    {
      "cell_type": "code",
      "source": [],
      "metadata": {
        "id": "tI8hqgUUugGN"
      },
      "execution_count": null,
      "outputs": []
    }
  ]
}